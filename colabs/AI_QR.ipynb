{
  "cells": [
    {
      "cell_type": "markdown",
      "metadata": {
        "id": "view-in-github",
        "colab_type": "text"
      },
      "source": [
        "<a href=\"https://colab.research.google.com/github/nbiish/subscriber_tools/blob/main/colabs/AI_QR.ipynb\" target=\"_parent\"><img src=\"https://colab.research.google.com/assets/colab-badge.svg\" alt=\"Open In Colab\"/></a>"
      ]
    },
    {
      "cell_type": "markdown",
      "source": [
        "# AI-gen QR creator (😏 its THAT easy)"
      ],
      "metadata": {
        "id": "O3Q8sK8SrmON"
      }
    },
    {
      "cell_type": "markdown",
      "source": [
        "## 👈Arrow drops down the cells\n",
        "***Keep window active/open so your session doesnt end.***\n",
        "> Double tap each cell to see the code."
      ],
      "metadata": {
        "id": "F2ikQcEgs0WP"
      }
    },
    {
      "cell_type": "code",
      "execution_count": null,
      "metadata": {
        "id": "JAENQQZsRPJF",
        "cellView": "form"
      },
      "outputs": [],
      "source": [
        "#@markdown # Press ▶️ to get started\n",
        "#@markdown > Downloads project\n",
        "\n",
        "#@markdown > Installs packages/requirements.\n",
        "print('💾 downloading..')\n",
        "!git clone -q https://huggingface.co/spaces/huggingface-projects/QR-code-AI-art-generator\n",
        "\n",
        "%cd QR-code-AI-art-generator\n",
        "\n",
        "print('🤖 installing (may take a min)')\n",
        "!pip install -qr requirements.txt\n",
        "print('✅(ding sound)')"
      ]
    },
    {
      "cell_type": "code",
      "execution_count": null,
      "metadata": {
        "id": "6_j2n-nxSFgW",
        "cellView": "form"
      },
      "outputs": [],
      "source": [
        "#@markdown # Sip some 🍵\n",
        "#@markdown ## ..wait for the link at the bottom👇\n",
        "#@markdown ## Enjoy!🥳 (make sure your qr's work)\n",
        "\n",
        "import os\n",
        "os.environ[\"SHARE\"] = 'True'\n",
        "\n",
        "!python app.py"
      ]
    }
  ],
  "metadata": {
    "accelerator": "GPU",
    "colab": {
      "provenance": [],
      "include_colab_link": true
    },
    "kernelspec": {
      "display_name": "Python 3",
      "name": "python3"
    },
    "language_info": {
      "name": "python"
    }
  },
  "nbformat": 4,
  "nbformat_minor": 0
}