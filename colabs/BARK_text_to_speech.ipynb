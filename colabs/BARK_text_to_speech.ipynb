{
  "nbformat": 4,
  "nbformat_minor": 0,
  "metadata": {
    "colab": {
      "provenance": [],
      "include_colab_link": true
    },
    "kernelspec": {
      "name": "python3",
      "display_name": "Python 3"
    },
    "language_info": {
      "name": "python"
    },
    "accelerator": "GPU",
    "gpuClass": "standard"
  },
  "cells": [
    {
      "cell_type": "markdown",
      "metadata": {
        "id": "view-in-github",
        "colab_type": "text"
      },
      "source": [
        "<a href=\"https://colab.research.google.com/github/nbiish/patron-tools/blob/main/colabs/BARK_text_to_speech.ipynb\" target=\"_parent\"><img src=\"https://colab.research.google.com/assets/colab-badge.svg\" alt=\"Open In Colab\"/></a>"
      ]
    },
    {
      "cell_type": "markdown",
      "source": [
        "# Install"
      ],
      "metadata": {
        "id": "NO47mAC5iGH7"
      }
    },
    {
      "cell_type": "code",
      "source": [
        "# install bark (make sure you have torch>=2 for much faster flash-attention)\n",
        "!pip install git+https://github.com/suno-ai/bark.git"
      ],
      "metadata": {
        "id": "YkizeTpG_3T7"
      },
      "execution_count": null,
      "outputs": []
    },
    {
      "cell_type": "markdown",
      "source": [
        "## Imports and Load Models"
      ],
      "metadata": {
        "id": "7Ge31CAciLNJ"
      }
    },
    {
      "cell_type": "code",
      "source": [
        "from bark import SAMPLE_RATE, generate_audio, preload_models\n",
        "from IPython.display import Audio\n",
        "\n",
        "preload_models()"
      ],
      "metadata": {
        "id": "t9Vlr3RRt6B9"
      },
      "execution_count": null,
      "outputs": []
    },
    {
      "cell_type": "markdown",
      "source": [
        "# Basic prompting"
      ],
      "metadata": {
        "id": "QDkNVV27l01x"
      }
    },
    {
      "cell_type": "code",
      "source": [
        "text_prompt = \"\" # @param {type:\"string\"}\n",
        "audio_array = generate_audio(text_prompt)\n",
        "Audio(audio_array, rate=SAMPLE_RATE)"
      ],
      "metadata": {
        "id": "NyYQ--3YksJY",
        "cellView": "form"
      },
      "execution_count": null,
      "outputs": []
    },
    {
      "cell_type": "markdown",
      "source": [
        "# Advanced Prompting"
      ],
      "metadata": {
        "id": "b5rDDPxrRAKa"
      }
    },
    {
      "cell_type": "markdown",
      "source": [
        "## imports"
      ],
      "metadata": {
        "id": "f3gXeWb9b7Ws"
      }
    },
    {
      "cell_type": "code",
      "source": [
        "import os\n",
        "os.environ[\"CUDA_VISIBLE_DEVICES\"] = \"0\"\n",
        "\n",
        "from IPython.display import Audio\n",
        "import nltk #splits sentences\n",
        "import numpy as np\n",
        "\n",
        "from bark.generation import (\n",
        "    generate_text_semantic,\n",
        "    preload_models,\n",
        ")\n",
        "from bark.api import semantic_to_waveform\n",
        "from bark import generate_audio, SAMPLE_RATE"
      ],
      "metadata": {
        "id": "OprI-DZIm3H5"
      },
      "execution_count": null,
      "outputs": []
    },
    {
      "cell_type": "markdown",
      "source": [
        "## Simple Long-Form Generation"
      ],
      "metadata": {
        "id": "TyC-fRFXLPVn"
      }
    },
    {
      "cell_type": "code",
      "source": [
        "script = \"\"\"\n",
        "Here is a short cyberpunk science fiction story featuring Anishinaabe characters:\n",
        "\n",
        "Nimiki gazed out the towering plexiglass window of her apartment, watching the hovercars zoom by in the night sky. She leaned back in her chair and took a long drag from her electronic cigarette, the tip glowing a faint blue.\n",
        "\n",
        "\"Another day in the concrete jungle,\" she murmured.\n",
        "\n",
        "As a cybersecurity expert for OjibweTech, one of the largest tech firms in the region, Nimiki was constantly battling the forces that threatened to destabilize the network. Rogue AIs, foreign state actors, cyberterrorists - they all wanted a piece of the vast stream of data and commerce that flowed through the company's servers.\n",
        "\n",
        "A notification popped up on her retinal display - time to jack into the system for her nightly monitoring. She strode over to the console on the wall and unspooled the optic cable from her wrist port. As soon as she plugged in, code began racing across her vision. To the untrained eye it was just a blur, but to Nimiki it was a whole virtual world alive with information.\n",
        "\n",
        "Tonight the network hummed along smoothly, though Nimiki knew dangers lurked in every encrypted partition and dark node. She had to be ever vigilant. The Anishinaabe legacy of technological innovation depended on it.\n",
        "\n",
        "After ensuring no major threats were detected, Nimiki logged off. She grabbed her sleek leather jacket and headed for the door. Maybe she'd drop by the local microchip speakeasy and unwind a bit before calling it a night. Her cyberdefense skills were top-notch, but staying human in this churning, ever-changing world? That was the real trick.\n",
        "\"\"\".replace(\"\\n\", \" \").strip()"
      ],
      "metadata": {
        "id": "x9ISZaF7K6iP"
      },
      "execution_count": null,
      "outputs": []
    },
    {
      "cell_type": "code",
      "source": [
        "import nltk\n",
        "nltk.download('punkt')\n",
        "sentences = nltk.sent_tokenize(script)"
      ],
      "metadata": {
        "id": "tX6eAJ32MJFP"
      },
      "execution_count": null,
      "outputs": []
    },
    {
      "cell_type": "code",
      "source": [
        "SPEAKER = \"v2/en_speaker_6\"\n",
        "silence = np.zeros(int(0.25 * SAMPLE_RATE))  #quarter second of silence\n",
        "\n",
        "pieces = []\n",
        "for sentence in sentences:\n",
        "  audio_array = generate_audio(sentence, history_prompt=SPEAKER)\n",
        "  pieces += [audio_array, silence.copy()]"
      ],
      "metadata": {
        "id": "g45fwG42MPG7"
      },
      "execution_count": null,
      "outputs": []
    },
    {
      "cell_type": "code",
      "source": [
        "Audio(np.concatenate(pieces), rate=SAMPLE_RATE)"
      ],
      "metadata": {
        "id": "HT4fzV0nNHBN"
      },
      "execution_count": null,
      "outputs": []
    },
    {
      "cell_type": "markdown",
      "source": [
        "## Advanced Long-Form Generation"
      ],
      "metadata": {
        "id": "B1CNWIzfQHqV"
      }
    },
    {
      "cell_type": "code",
      "source": [
        "GEN_TEMP = 0.6\n",
        "SPEAKER = \"v2/en_speaker_6\"\n",
        "silence = np.zeros(int(0.25 * SAMPLE_RATE))\n",
        "\n",
        "pieces = []\n",
        "for sentence in sentences:\n",
        "  semantic_tokens = generate_text_semantic(\n",
        "      sentence,\n",
        "      history_prompt=SPEAKER,\n",
        "      temp=GEN_TEMP,\n",
        "      min_EOS_p=0.05, # this controls how likely the generation is to end\n",
        "  )\n",
        "\n",
        "  audio_array = semantic_to_waveform(semantic_tokens, history_prompt=SPEAKER,)\n",
        "  pieces += [audio_array, silence.copy()]"
      ],
      "metadata": {
        "id": "MCeOY7zLQMhj"
      },
      "execution_count": null,
      "outputs": []
    },
    {
      "cell_type": "code",
      "source": [
        "Audio(np.concatenate(pieces), rate=SAMPLE_RATE)"
      ],
      "metadata": {
        "id": "XUI-BkQXWoFr"
      },
      "execution_count": null,
      "outputs": []
    },
    {
      "cell_type": "markdown",
      "source": [
        "## Make Long-Form Dialog from Bark"
      ],
      "metadata": {
        "id": "SH0MxZkece3D"
      }
    },
    {
      "cell_type": "code",
      "source": [
        " speaker_lookup = {\"Samantha\": \"v2/en_speaker_9\", \"John\": \"v2/en)speaker_2\"}\n",
        "\n",
        "script = \"\"\"\n",
        "Samantha: Hey, have you heard about this new text-to-audio model called \"Bark\"?\n",
        "\n",
        "John: No, I haven't. What's so special about it?\n",
        "\n",
        "Samantha: Well, apparently it's the most realistic and natural-sounding text-to-audio model out there right now. People are saying it sounds just like a real person speaking.\n",
        "\n",
        "John: Wow, that sounds amazing. How does it work?\n",
        "\n",
        "Samantha: I think it uses advanced machine learning algorithms to analyze and understand the nuances of human speech, and then replicates those nuances in its own speech output.\n",
        "\n",
        "John: That's pretty impressive. Do you think it could be used for things like audiobooks or podcasts?\n",
        "\n",
        "Samantha: Definitely! In fact, I heard that some publishers are already starting to use Bark to create audiobooks. And I bet it would be great for podcasts too.\n",
        "\n",
        "John: I can imagine. It would be like having your own personal voiceover artist.\n",
        "\n",
        "Samantha: Exactly! I think Bark is going to be a game-changer in the world of text-to-audio technology.\"\"\"\n",
        "script = script.strip().split(\"\\n\")\n",
        "script = [s.strip() for s in script if s]\n",
        "script"
      ],
      "metadata": {
        "id": "DZy6yOAPdP40"
      },
      "execution_count": null,
      "outputs": []
    },
    {
      "cell_type": "code",
      "source": [
        "pieces = []\n",
        "silence = np.zeros(int(0.5*SAMPLE_RATE))\n",
        "for line in script:\n",
        "  speaker, text = line.split(\": \")\n",
        "  audio_array = generate_audio(text, history_prompt=speaker_lookup[speaker], )\n",
        "  pieces += [audio_array, silence.copy()]"
      ],
      "metadata": {
        "id": "e3n2_CECsdjw"
      },
      "execution_count": null,
      "outputs": []
    },
    {
      "cell_type": "code",
      "source": [
        "Audio(np.concatenate(pieces), rate=SAMPLE_RATE)"
      ],
      "metadata": {
        "id": "G4_t4fgXs60B"
      },
      "execution_count": null,
      "outputs": []
    }
  ]
}